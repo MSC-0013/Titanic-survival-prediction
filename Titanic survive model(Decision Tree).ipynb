{
 "cells": [
  {
   "cell_type": "code",
   "execution_count": 65,
   "id": "fbd119af-2e89-4048-ad81-7dad49cc9961",
   "metadata": {},
   "outputs": [],
   "source": [
    "import pandas as pd\n",
    "from sklearn.model_selection import train_test_split\n",
    "from sklearn.tree import DecisionTreeClassifier\n",
    "from sklearn.metrics import accuracy_score, classification_report\n",
    "from sklearn.preprocessing import LabelEncoder"
   ]
  },
  {
   "cell_type": "code",
   "execution_count": 4,
   "id": "e2ebb9bd-126d-447c-9db2-8541fc8cc784",
   "metadata": {},
   "outputs": [
    {
     "name": "stdout",
     "output_type": "stream",
     "text": [
      "   PassengerId  Survived  Pclass  \\\n",
      "0            1         0       3   \n",
      "1            2         1       1   \n",
      "2            3         1       3   \n",
      "3            4         1       1   \n",
      "4            5         0       3   \n",
      "\n",
      "                                                Name     Sex   Age  SibSp  \\\n",
      "0                            Braund, Mr. Owen Harris    male  22.0      1   \n",
      "1  Cumings, Mrs. John Bradley (Florence Briggs Th...  female  38.0      1   \n",
      "2                             Heikkinen, Miss. Laina  female  26.0      0   \n",
      "3       Futrelle, Mrs. Jacques Heath (Lily May Peel)  female  35.0      1   \n",
      "4                           Allen, Mr. William Henry    male  35.0      0   \n",
      "\n",
      "   Parch            Ticket     Fare Cabin Embarked  \n",
      "0      0         A/5 21171   7.2500   NaN        S  \n",
      "1      0          PC 17599  71.2833   C85        C  \n",
      "2      0  STON/O2. 3101282   7.9250   NaN        S  \n",
      "3      0            113803  53.1000  C123        S  \n",
      "4      0            373450   8.0500   NaN        S  \n"
     ]
    }
   ],
   "source": [
    "# read the csv file and showcasing its first few rows with pandas.\n",
    "df = pd.read_csv(\"titanic.csv\")\n",
    "print(df.head())"
   ]
  },
  {
   "cell_type": "code",
   "execution_count": 72,
   "id": "3fe8b596-dc08-49fa-8dbb-986b777dc0d4",
   "metadata": {},
   "outputs": [
    {
     "name": "stdout",
     "output_type": "stream",
     "text": [
      "Survived    0\n",
      "Pclass      0\n",
      "Sex         0\n",
      "Age         0\n",
      "SibSp       0\n",
      "Parch       0\n",
      "Fare        0\n",
      "Embarked    0\n",
      "dtype: int64\n"
     ]
    }
   ],
   "source": [
    "# there are 3 column with missing values \"Age\",\"Cabin\",\"Embarked\"\n",
    "print(df.isnull().sum())"
   ]
  },
  {
   "cell_type": "code",
   "execution_count": 83,
   "id": "a8c00bb4-4b8a-4dfc-aebe-96d22fbec542",
   "metadata": {},
   "outputs": [],
   "source": [
    "# Median is preferred if the data is skewed as it’s less affected by outliers.\n",
    "# fill missing values with beacause the mode contains most frequent value.\n",
    "# using median and mean function to handle missing values with \"Age\" and \"Embarked\" coloumn\n",
    "# declare first caus of the errror it showing cause of axis=1. \n",
    "\n",
    "df[\"Age\"] = df[\"Age\"].fillna(df[\"Age\"].median())\n",
    "df[\"Embarked\"] = df[\"Embarked\"].fillna(df[\"Embarked\"].mode()[0])\n",
    "# using error = ignore to remove any showcase errors from dropping cabin coloumn.\n",
    "# removing the useless and with many missing values in coloumn.\n",
    "df.drop(\"Cabin\", axis=1, inplace=True, errors='ignore')"
   ]
  },
  {
   "cell_type": "code",
   "execution_count": 86,
   "id": "70c275e8-0751-4773-8e31-4ae8b6249cf4",
   "metadata": {},
   "outputs": [
    {
     "name": "stdout",
     "output_type": "stream",
     "text": [
      "Index(['Survived', 'Pclass', 'Sex', 'Age', 'SibSp', 'Parch', 'Fare',\n",
      "       'Embarked'],\n",
      "      dtype='object')\n"
     ]
    }
   ],
   "source": [
    "print(df.columns)"
   ]
  },
  {
   "cell_type": "code",
   "execution_count": 87,
   "id": "38c573d2-cbc1-4f39-811d-f09d30433091",
   "metadata": {},
   "outputs": [],
   "source": [
    "columns_to_drop = ['PassengerId', 'Name', 'Ticket', 'Cabin']\n",
    "existing_columns_to_drop = [col for col in columns_to_drop if col in df.columns]\n",
    "df.drop(columns=existing_columns_to_drop, axis=1, inplace=True)"
   ]
  },
  {
   "cell_type": "code",
   "execution_count": 94,
   "id": "bcebc311-0be9-46a2-a7da-65cf4943e738",
   "metadata": {},
   "outputs": [
    {
     "name": "stdout",
     "output_type": "stream",
     "text": [
      "Index(['Survived', 'Pclass', 'Sex', 'Age', 'SibSp', 'Parch', 'Fare',\n",
      "       'Embarked'],\n",
      "      dtype='object')\n"
     ]
    }
   ],
   "source": [
    "print(df.columns)"
   ]
  },
  {
   "cell_type": "code",
   "execution_count": 95,
   "id": "279a47f0-4dc0-414d-9383-0039ca04c43a",
   "metadata": {},
   "outputs": [],
   "source": [
    "# using label encoder for fit and transfer the column \n",
    "le = LabelEncoder()\n",
    "df[\"Sex\"] = le.fit_transform(df[\"Sex\"])\n",
    "df[\"Embarked\"] = le.fit_transform(df[\"Embarked\"])"
   ]
  },
  {
   "cell_type": "code",
   "execution_count": 96,
   "id": "322a9d73-3867-467b-9be7-03951e4b3a5d",
   "metadata": {},
   "outputs": [
    {
     "name": "stdout",
     "output_type": "stream",
     "text": [
      "Pclass        int64\n",
      "Sex           int64\n",
      "Age         float64\n",
      "SibSp         int64\n",
      "Parch         int64\n",
      "Fare        float64\n",
      "Embarked      int64\n",
      "dtype: object\n"
     ]
    }
   ],
   "source": [
    "print(x.dtypes)"
   ]
  },
  {
   "cell_type": "code",
   "execution_count": 97,
   "id": "33d8949d-64a0-4163-995c-b15efa926e57",
   "metadata": {},
   "outputs": [],
   "source": [
    "# declare the variable x and y.\n",
    "# x is the dataframe after dropping out the \"survived\" column \n",
    "x = df.drop(\"Survived\", axis=1)\n",
    "y = df[\"Survived\"]"
   ]
  },
  {
   "cell_type": "code",
   "execution_count": 98,
   "id": "be97601b-3939-4e1f-848e-730a0f0075b8",
   "metadata": {},
   "outputs": [],
   "source": [
    "# Spliting the dataset for training and testing.\n",
    "# random state =  42 is used widely to remove the different output for every time u run.\n",
    "x_train, x_test, y_train, y_test = train_test_split(x, y, test_size=0.2, random_state=42)"
   ]
  },
  {
   "cell_type": "code",
   "execution_count": 99,
   "id": "49876a92-5010-4f36-bdc8-2b7d5dade91a",
   "metadata": {},
   "outputs": [
    {
     "name": "stdout",
     "output_type": "stream",
     "text": [
      "Index(['Survived', 'Pclass', 'Sex', 'Age', 'SibSp', 'Parch', 'Fare',\n",
      "       'Embarked'],\n",
      "      dtype='object')\n"
     ]
    }
   ],
   "source": [
    "print(df.columns)"
   ]
  },
  {
   "cell_type": "code",
   "execution_count": 100,
   "id": "3e17ff0c-8117-4497-b63d-dc1c277afbea",
   "metadata": {},
   "outputs": [],
   "source": [
    "# initialize the decision tree model and predicting the value \n",
    "model = DecisionTreeClassifier(random_state=42)\n",
    "model.fit(x_train, y_train)\n",
    "y_pred = model.predict(x_test)"
   ]
  },
  {
   "cell_type": "code",
   "execution_count": 101,
   "id": "b325e376-9410-4284-9a70-490768cd2e2f",
   "metadata": {},
   "outputs": [
    {
     "name": "stdout",
     "output_type": "stream",
     "text": [
      "              precision    recall  f1-score   support\n",
      "\n",
      "           0       0.83      0.79      0.81       105\n",
      "           1       0.72      0.77      0.75        74\n",
      "\n",
      "    accuracy                           0.78       179\n",
      "   macro avg       0.78      0.78      0.78       179\n",
      "weighted avg       0.79      0.78      0.78       179\n",
      "\n"
     ]
    }
   ],
   "source": [
    "accuracy = accuracy_score(y_test, y_pred)\n",
    "print(classification_report(y_test, y_pred))"
   ]
  },
  {
   "cell_type": "code",
   "execution_count": 104,
   "id": "f916ac71-fdec-419f-be71-673465631b47",
   "metadata": {},
   "outputs": [
    {
     "name": "stdout",
     "output_type": "stream",
     "text": [
      "Index(['Survived', 'Pclass', 'Sex', 'Age', 'SibSp', 'Parch', 'Fare',\n",
      "       'Embarked'],\n",
      "      dtype='object')\n",
      "Index(['Pclass', 'Sex', 'Age', 'SibSp', 'Parch', 'Fare', 'Embarked'], dtype='object')\n"
     ]
    }
   ],
   "source": [
    "print(df.columns)\n",
    "print(x_train.columns)  # To see which features were used for training"
   ]
  },
  {
   "cell_type": "code",
   "execution_count": 108,
   "id": "d51b02d5-c0ed-4cf0-8680-42d09a279854",
   "metadata": {},
   "outputs": [
    {
     "name": "stdout",
     "output_type": "stream",
     "text": [
      "Survived\n"
     ]
    },
    {
     "name": "stderr",
     "output_type": "stream",
     "text": [
      "C:\\Users\\91934\\AppData\\Local\\Programs\\Python\\Python310\\lib\\site-packages\\sklearn\\base.py:450: UserWarning: X does not have valid feature names, but DecisionTreeClassifier was fitted with feature names\n",
      "  warnings.warn(\n"
     ]
    }
   ],
   "source": [
    "# Correct the prediction input to match 7 features\n",
    "# Example corrected features based on x_train columns\n",
    "prediction = model.predict([[3, 0, 22, 1, 0, 7.25, 0]])  # Adjusted to 7 features\n",
    "result = \"Survived\" if prediction[0] == 1 else \"Not Survived\"\n",
    "print(result)"
   ]
  }
 ],
 "metadata": {
  "kernelspec": {
   "display_name": "Python 3 (ipykernel)",
   "language": "python",
   "name": "python3"
  },
  "language_info": {
   "codemirror_mode": {
    "name": "ipython",
    "version": 3
   },
   "file_extension": ".py",
   "mimetype": "text/x-python",
   "name": "python",
   "nbconvert_exporter": "python",
   "pygments_lexer": "ipython3",
   "version": "3.10.5"
  }
 },
 "nbformat": 4,
 "nbformat_minor": 5
}
